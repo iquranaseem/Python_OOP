{
 "cells": [
  {
   "cell_type": "code",
   "execution_count": 41,
   "metadata": {},
   "outputs": [
    {
     "name": "stdout",
     "output_type": "stream",
     "text": [
      "Name: Iqra Naseem\n",
      "City: Dublin\n",
      "Employee Number: 123\n",
      "\n",
      "Original name: Iqra Naseem\n",
      "Updated name: Iqura Naseem\n",
      "\n",
      "Original Employee Number: 123\n",
      "Updated Employee Number: 121\n"
     ]
    }
   ],
   "source": [
    "class Employee:\n",
    "    def __init__(self, name, city, ENum):\n",
    "        self._name = name \n",
    "        self.city = city\n",
    "        self._ENum = ENum\n",
    "        \n",
    "    def __str__(self):\n",
    "        s = f\"Name: {self._name}\\n\"\n",
    "        s += f\"City: {self.city}\\n\"\n",
    "        s += f\"Employee Number: {self._ENum}\\n\"\n",
    "        return s\n",
    "    \n",
    "    def get_name(self):\n",
    "        return self._name\n",
    "    \n",
    "    def set_name(self, name):\n",
    "        self._name = name\n",
    "        \n",
    "    def get_ENum(self):\n",
    "        return self._ENum\n",
    "    \n",
    "    def set_ENum(self, ENum):\n",
    "        self._ENum = ENum\n",
    "\n",
    "# Employee usage:\n",
    "employee = Employee(\"Iqra Naseem\", \"Dublin\", 123)\n",
    "print(employee)\n",
    "print(\"Original name:\", employee.get_name())\n",
    "employee.set_name(\"Iqura Naseem\")\n",
    "print(\"Updated name:\", employee.get_name() + \"\\n\")\n",
    "print(\"Original Employee Number:\", employee.get_ENum())\n",
    "employee.set_ENum(121)\n",
    "print(\"Updated Employee Number:\", employee.get_ENum())\n"
   ]
  }
 ],
 "metadata": {
  "kernelspec": {
   "display_name": "Python 3",
   "language": "python",
   "name": "python3"
  },
  "language_info": {
   "name": "python",
   "version": "3.9.13"
  },
  "orig_nbformat": 4
 },
 "nbformat": 4,
 "nbformat_minor": 2
}
