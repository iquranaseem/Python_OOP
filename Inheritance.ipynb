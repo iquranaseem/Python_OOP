{
 "cells": [
  {
   "cell_type": "code",
   "execution_count": 32,
   "metadata": {},
   "outputs": [
    {
     "name": "stdout",
     "output_type": "stream",
     "text": [
      "Name: Orlaigh King\n",
      "City: Dublin\n",
      "Employee Number: 123\n",
      "\n",
      "Name: Dave O'Brien\n",
      "City: Dubai\n",
      "Manager Number: 23\n",
      "\n"
     ]
    }
   ],
   "source": [
    "class Employee:\n",
    "    def __init__(self, name, city, ENum):\n",
    "        self.name = name \n",
    "        self.city = city\n",
    "        self.ENum = ENum\n",
    "        \n",
    "    def __str__(self):\n",
    "        s = f\"Name: {self.name}\\n\"\n",
    "        s += f\"City: {self.city}\\n\"\n",
    "        s += f\"Employee Number: {self.ENum}\\n\"\n",
    "        return s\n",
    "    \n",
    "    def title(self, job):\n",
    "        return self.name, \"works as a\", job\n",
    "    \n",
    "class Manager(Employee):\n",
    "    def __init__(self, name, city, MNum):\n",
    "        super().__init__(name, city, MNum)\n",
    "        self.MNum = MNum \n",
    "  \n",
    "    def __str__(self):\n",
    "        s = f\"Name: {self.name}\\n\"\n",
    "        s += f\"City: {self.city}\\n\"\n",
    "        s += f\"Manager Number: {self.MNum}\\n\"\n",
    "        return s\n",
    "        \n",
    "#Employee usuage:\n",
    "employee1 = Employee(\"Orlaigh King\", \"Dublin\", 123)\n",
    "print(employee1)\n",
    "employee1.title(\"IT specialist\" + \"\\n\")\n",
    "\n",
    "manager1 = Manager(\"Dave O'Brien\", \"Dubai\", 23)\n",
    "print(manager1)\n",
    "\n",
    "    "
   ]
  }
 ],
 "metadata": {
  "kernelspec": {
   "display_name": "Python 3",
   "language": "python",
   "name": "python3"
  },
  "language_info": {
   "name": "python",
   "version": "3.9.13"
  },
  "orig_nbformat": 4
 },
 "nbformat": 4,
 "nbformat_minor": 2
}
