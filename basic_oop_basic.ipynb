{
 "cells": [
  {
   "cell_type": "code",
   "execution_count": 21,
   "metadata": {},
   "outputs": [
    {
     "name": "stdout",
     "output_type": "stream",
     "text": [
      "Name: Orlaigh King\n",
      "Age: 21\n",
      "City: Dublin\n",
      "Employee Number: 123\n",
      "\n",
      "Orlaigh King\n"
     ]
    },
    {
     "data": {
      "text/plain": [
       "'orlaigh.king@job.ie'"
      ]
     },
     "execution_count": 21,
     "metadata": {},
     "output_type": "execute_result"
    }
   ],
   "source": [
    "class Employee:\n",
    "    def __init__(self, name, age, city, ENum):\n",
    "        self.name = name \n",
    "        self.age = age \n",
    "        self.city = city\n",
    "        self.Enum = ENum\n",
    "        \n",
    "    def __str__(self):\n",
    "        s = f\"Name: {self.name}\\n\"\n",
    "        s += f\"Age: {self.age}\\n\"\n",
    "        s += f\"City: {self.city}\\n\"\n",
    "        s += f\"Employee Number: {self.Enum}\\n\"\n",
    "        return s\n",
    "    \n",
    "    def create_email(self):\n",
    "       new_name = self.name.replace(\" \", \".\").lower()\n",
    "       return f\"{new_name}@job.ie\"\n",
    "\n",
    "#Employee usuage:\n",
    "employee = Employee(\"Orlaigh King\", 21, \"Dublin\", 123)\n",
    "print(employee)\n",
    "print(employee.name)\n",
    "employee.create_email()\n"
   ]
  }
 ],
 "metadata": {
  "kernelspec": {
   "display_name": "Python 3",
   "language": "python",
   "name": "python3"
  },
  "language_info": {
   "codemirror_mode": {
    "name": "ipython",
    "version": 3
   },
   "file_extension": ".py",
   "mimetype": "text/x-python",
   "name": "python",
   "nbconvert_exporter": "python",
   "pygments_lexer": "ipython3",
   "version": "3.9.13"
  },
  "orig_nbformat": 4
 },
 "nbformat": 4,
 "nbformat_minor": 2
}
