{
 "cells": [
  {
   "cell_type": "code",
   "execution_count": 10,
   "metadata": {},
   "outputs": [
    {
     "name": "stdout",
     "output_type": "stream",
     "text": [
      "Name: Orlaigh King\n",
      "City: Dublin\n",
      "Employee Number: 123\n",
      "\n",
      "orlaigh.king@employee.ie\n",
      "Orlaigh King works as a software_engineer\n"
     ]
    }
   ],
   "source": [
    "class Employee:\n",
    "    def __init__(self, name, city, ENum):\n",
    "        self.name = name \n",
    "        self.city = city\n",
    "        self.Enum = ENum\n",
    "        \n",
    "    def __str__(self):\n",
    "        s = f\"Name: {self.name}\\n\"\n",
    "        s += f\"City: {self.city}\\n\"\n",
    "        s += f\"Employee Number: {self.Enum}\\n\"\n",
    "        return s\n",
    "    \n",
    "    def create_email(self):\n",
    "       new_name = self.name.replace(\" \", \".\").lower()\n",
    "       return f\"{new_name}\"\"@employee.ie\"\n",
    "   \n",
    "    def job_title(self, job):\n",
    "        print((self.name), \"works as a\", job)\n",
    "    \n",
    "\n",
    "\n",
    "#Employee usuage:\n",
    "employee = Employee(\"Orlaigh King\", \"Dublin\", 123)\n",
    "print(employee)\n",
    "print(employee.create_email())\n",
    "employee.job_title(\"software_engineer\")\n"
   ]
  }
 ],
 "metadata": {
  "kernelspec": {
   "display_name": "Python 3",
   "language": "python",
   "name": "python3"
  },
  "language_info": {
   "codemirror_mode": {
    "name": "ipython",
    "version": 3
   },
   "file_extension": ".py",
   "mimetype": "text/x-python",
   "name": "python",
   "nbconvert_exporter": "python",
   "pygments_lexer": "ipython3",
   "version": "3.9.13"
  },
  "orig_nbformat": 4
 },
 "nbformat": 4,
 "nbformat_minor": 2
}
