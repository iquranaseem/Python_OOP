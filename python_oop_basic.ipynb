{
 "cells": [
  {
   "cell_type": "code",
   "execution_count": 37,
   "metadata": {},
   "outputs": [
    {
     "name": "stdout",
     "output_type": "stream",
     "text": [
      "Amy King\n",
      "Email: amy.king@job.ie\n",
      "Pay: 30000\n",
      "\n",
      "\n",
      "Amy King has the job title of Manager\n"
     ]
    }
   ],
   "source": [
    "class Employee:\n",
    "    def __init__(self, first, last, pay):\n",
    "        self.first = first \n",
    "        self.last = last \n",
    "        self.email = first.lower() + \".\" + last.lower() + \"@job.ie\"\n",
    "        self.pay = pay \n",
    "        \n",
    "    def __str__(self):\n",
    "        s = self.first + \" \" + self.last + \"\\n\"\n",
    "        s += \"Email: \" + self.email + \"\\n\"\n",
    "        s += \"Pay: \" + str(self.pay)  # Assuming self.pay is a numeric value\n",
    "        return s\n",
    "\n",
    "        \n",
    "    def job_title(self, title):\n",
    "        print(f\"{self.first} {self.last} has the job title of\", title)\n",
    "        \n",
    "    \n",
    "        \n",
    "employee1 = Employee(\"Amy\", \"King\", 30000)\n",
    "print(employee1)\n",
    "print(\"\\n\")\n",
    "employee1.job_title(\"Manager\")\n",
    "\n",
    "\n"
   ]
  }
 ],
 "metadata": {
  "kernelspec": {
   "display_name": "Python 3",
   "language": "python",
   "name": "python3"
  },
  "language_info": {
   "name": "python",
   "version": "3.9.13"
  },
  "orig_nbformat": 4
 },
 "nbformat": 4,
 "nbformat_minor": 2
}
